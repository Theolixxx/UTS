{
 "cells": [
  {
   "cell_type": "code",
   "execution_count": 2,
   "id": "22bf7415",
   "metadata": {},
   "outputs": [
    {
     "name": "stdout",
     "output_type": "stream",
     "text": [
      "                            Curriculum Vitae\n",
      "=============================================================\n",
      "Data Pribadi\n",
      "Nama                  : Jekunson Togatorop\n",
      "Jenis Kelamin         : Laki-laki\n",
      "Tempat Tanggal Lahir  : Nanga pinoh, 14-02-2002\n",
      "Kesehatan             : Baik\n",
      "Kewarganegaraan       : Indonesia\n",
      "Status Perkawinan     : Belum Menikah\n",
      "Agama                 : Kristen\n",
      "Alamat Lengkap        : Planet Bumi,\n",
      "       RT/RW          : 1.025957 d, 24ʰ 37ᵐ 22.7ˢ\n",
      "       Kel/Desa       : Moon\n",
      "       Kecamatan      :MARS\n",
      "Nomor Telepon         : 08xx xxxx xxxx\n",
      "=============================================================\n",
      "PENDIDIKAN FORMAL\n",
      "2008 - 2014           : SD Amkur\n",
      "2014 - 2017           : SMP N 01 Sanggau Ledo\n",
      "2017 - 2020           : SMK Bina Utama\n",
      "PENDIDIKAN NON FORMAL\n",
      "2003 - 2021           : -\n",
      "=============================================================\n",
      "Organisasi/Ekstrakurikuler\n",
      "GAK IKUT-IKUT ORGANISASI MAMA MARAH\n",
      "=============================================================\n",
      "PENGALAMAN KERJA\n",
      "2020 - 2021           : Tembus mythical Glory \n",
      "=============================================================\n",
      "PRESTASI\n",
      "TOP PROVINSI HERO GROCK\n",
      "=============================================================\n",
      "Demikian Ini Daftar Riwayat Hidup saya buat dengan sebenar benarnya.\n",
      "Pontianak 21 Sep 2021\n",
      "Hormat saya,\n",
      "Jekunson Togatorop AKA Jack\n"
     ]
    }
   ],
   "source": [
    "surat = \"Curriculum Vitae\"\n",
    "judul_1 =\"Data Pribadi\"\n",
    "Nama = \"Jekunson Togatorop\"\n",
    "Jenis_Kelamin = \"Laki-laki\"\n",
    "Tempat_Tanggal_Lahir = \"Nanga pinoh, 14-02-2002\"\n",
    "Kesehatan = \"Baik\"\n",
    "Kewarganegaraan = \"Indonesia\"\n",
    "Status_Perkawinan = \"Belum Menikah\"\n",
    "Agama = \"Kristen\"\n",
    "Alamat_Lengkap = \"\"\"Planet Bumi,\n",
    "       RT/RW          : 1.025957 d, 24ʰ 37ᵐ 22.7ˢ\n",
    "       Kel/Desa       : Moon\n",
    "       Kecamatan      :MARS\"\"\"\n",
    "Nomor_Telepon = \"08xx xxxx xxxx\"\n",
    "judul_2 = \"PENDIDIKAN FORMAL\"\n",
    "SD = \"SD Amkur\"\n",
    "SMP = \"SMP N 01 Sanggau Ledo\"\n",
    "SMK = \"SMK Bina Utama\"\n",
    "judul_3 = \"PENDIDIKAN NON FORMAL\"\n",
    "PENDIDIKAN_NON_FORMAL = \"-\"\n",
    "judul_4 = \"Organisasi/Ekstrakurikuler\"\n",
    "ORGANISASI = \"GAK IKUT-IKUT ORGANISASI MAMA MARAH\"\n",
    "judul_5 = \"PENGALAMAN KERJA\"\n",
    "PENGALAMAN_KERJA = \"Tembus mythical Glory \"\n",
    "judul_6 = \"PRESTASI\"\n",
    "PRESTASI = \"\"\"TOP PROVINSI HERO GROCK\"\"\"\n",
    "Penutup = \"Demikian Ini Daftar Riwayat Hidup saya buat dengan sebenar benarnya.\"\n",
    "Tempat_Tanggal_Pembuatan = \"Pontianak 21 Sep 2021\"\n",
    "TTD = \"\"\"Hormat saya,\n",
    "Jekunson Togatorop AKA Jack\"\"\"\n",
    "#cetak\n",
    "print('{:>44}'.format(surat))\n",
    "print(\"=============================================================\")\n",
    "print (judul_1)\n",
    "print(\"Nama                  :\", Nama)\n",
    "print(\"Jenis Kelamin         :\", Jenis_Kelamin)\n",
    "print(\"Tempat Tanggal Lahir  :\",Tempat_Tanggal_Lahir)\n",
    "print(\"Kesehatan             :\", Kesehatan)\n",
    "print(\"Kewarganegaraan       :\", Kewarganegaraan)\n",
    "print(\"Status Perkawinan     :\", Status_Perkawinan)\n",
    "print(\"Agama                 :\",  Agama)\n",
    "print(\"Alamat Lengkap        :\", Alamat_Lengkap)\n",
    "print(\"Nomor Telepon         :\", Nomor_Telepon)\n",
    "print(\"=============================================================\")\n",
    "print (judul_2)\n",
    "print(\"2008 - 2014           :\", SD)\n",
    "print(\"2014 - 2017           :\",SMP)\n",
    "print(\"2017 - 2020           :\",SMK)\n",
    "print (judul_3)\n",
    "print(\"2003 - 2021           :\",  PENDIDIKAN_NON_FORMAL)\n",
    "print(\"=============================================================\")\n",
    "print (judul_4)\n",
    "print(ORGANISASI)\n",
    "print(\"=============================================================\")\n",
    "print (judul_5)\n",
    "print(\"2020 - 2021           :\", PENGALAMAN_KERJA)\n",
    "print(\"=============================================================\")\n",
    "print (judul_6)\n",
    "print(PRESTASI)\n",
    "print(\"=============================================================\")\n",
    "print(Penutup)\n",
    "print (Tempat_Tanggal_Pembuatan)\n",
    "print (TTD)"
   ]
  },
  {
   "cell_type": "code",
   "execution_count": 3,
   "id": "dff9c2f1",
   "metadata": {},
   "outputs": [
    {
     "name": "stdout",
     "output_type": "stream",
     "text": [
      "MENGHITUNG LUAS & KELILING PERSEGI\n",
      "\n",
      "Masukan Panjang Sisi: 23\n",
      "\n",
      "Luas Persegi \t\t: 529.0\n",
      "Keliling Persegi\t: 92.0\n"
     ]
    }
   ],
   "source": [
    "print(\"MENGHITUNG LUAS & KELILING PERSEGI\")\n",
    "\n",
    "s = float(input(\"\\nMasukan Panjang Sisi: \"))\n",
    "\n",
    "luas = s**2\n",
    "keliling = 4 * s\n",
    "\n",
    "print(\"\\nLuas Persegi \\t\\t:\",luas)\n",
    "print(\"Keliling Persegi\\t:\",keliling)"
   ]
  },
  {
   "cell_type": "code",
   "execution_count": 16,
   "id": "c2fefc8f",
   "metadata": {},
   "outputs": [
    {
     "name": "stdout",
     "output_type": "stream",
     "text": [
      "Konversi Suhu Dari Celcius Ke Fahrenheit Ke Reamur\n",
      "Masukan Suhu Dalam Celcius 89\n",
      "Hasil Perhitungan Konversi Suhu: \n",
      "Suhu Celcius adalah    : 89.000000\n",
      "Suhu Fahrenheit adalah : 192.200000\n",
      "Suhu Reamur adalah     : 71.200000\n"
     ]
    }
   ],
   "source": [
    "print ('Konversi Suhu Dari Celcius Ke Fahrenheit Ke Reamur')\n",
    "suhu_celcius =float(input('Masukan Suhu Dalam Celcius '))\n",
    "suhu_fahrenheit = (9./5)* suhu_celcius + 32\n",
    "suhu_reamur = (4./5)* suhu_celcius\n",
    "print ('Hasil Perhitungan Konversi Suhu: ')\n",
    "print ('Suhu Celcius adalah    : %f' %(suhu_celcius))\n",
    "print ('Suhu Fahrenheit adalah : %2f' %(suhu_fahrenheit))\n",
    "print ('Suhu Reamur adalah     : %f' %(suhu_reamur))"
   ]
  },
  {
   "cell_type": "code",
   "execution_count": 33,
   "id": "f16ac3e1",
   "metadata": {},
   "outputs": [
    {
     "name": "stdout",
     "output_type": "stream",
     "text": [
      "Masukan Detik  :80000\n",
      "Hari  :  1\n",
      "Jam   :  22\n",
      "Menit :  13\n",
      "Detik :  20\n"
     ]
    }
   ],
   "source": [
    "detik = int(input(\"Masukan Detik  :\"))\n",
    "hari  = detik/86400\n",
    "temp1 = detik%86400\n",
    "jam = temp1/3600 \n",
    "temp2 = temp1%3600\n",
    "menit = temp2/60\n",
    "detik = temp2%60\n",
    "\n",
    "print (\"Hari  : \",round(hari))\n",
    "print (\"Jam   : \",round(jam))\n",
    "print (\"Menit : \",round(menit))\n",
    "print (\"Detik : \",round(detik))"
   ]
  },
  {
   "cell_type": "code",
   "execution_count": 38,
   "id": "9dfca743",
   "metadata": {},
   "outputs": [
    {
     "name": "stdout",
     "output_type": "stream",
     "text": [
      "Masukkan panjang jari-jari lingkaran: 20000\n",
      "Luas lingkaran adalah : 1257142857.142857\n"
     ]
    }
   ],
   "source": [
    "phi = 22/7\n",
    "r = float(input(\"Masukkan panjang jari-jari lingkaran: \"))\n",
    "luas = phi*r*r\n",
    "print(\"Luas lingkaran adalah : \"+ str(luas))"
   ]
  },
  {
   "cell_type": "code",
   "execution_count": null,
   "id": "31ae228f",
   "metadata": {},
   "outputs": [],
   "source": []
  }
 ],
 "metadata": {
  "kernelspec": {
   "display_name": "Python 3",
   "language": "python",
   "name": "python3"
  },
  "language_info": {
   "codemirror_mode": {
    "name": "ipython",
    "version": 3
   },
   "file_extension": ".py",
   "mimetype": "text/x-python",
   "name": "python",
   "nbconvert_exporter": "python",
   "pygments_lexer": "ipython3",
   "version": "3.8.8"
  }
 },
 "nbformat": 4,
 "nbformat_minor": 5
}
